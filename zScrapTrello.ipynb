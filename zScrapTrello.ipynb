{
 "cells": [
  {
   "cell_type": "code",
   "execution_count": 3,
   "metadata": {},
   "outputs": [],
   "source": [
    "####################################\n",
    "## A. Librerias\n",
    "####################################\n",
    "import os\n",
    "import time\n",
    "import json\n",
    "\n",
    "import datetime\n",
    "import pandas as pd\n",
    "\n",
    "from utils.utils import *\n",
    "from utils.paths import *\n",
    "\n",
    "from selenium.webdriver.common.by import By\n",
    "from selenium.webdriver.support.ui import WebDriverWait\n",
    "from selenium.webdriver.support import expected_conditions as EC\n",
    "\n",
    "####################################\n",
    "## B. Funciones\n",
    "####################################\n",
    "\n",
    "def get_files(path, extension):\n",
    "    dir_name  = os.path.join(os.getcwd(), path)\n",
    "    files     = os.listdir(dir_name)\n",
    "    \n",
    "    paths    = []\n",
    "    for file in files:\n",
    "        if extension in file:\n",
    "            paths.append(os.path.join(path,file))\n",
    "\n",
    "    return paths\n",
    "\n",
    "def columns_to_string(df):\n",
    "    columns = list(df.columns)    \n",
    "    for column in columns:\n",
    "        df[column] = df[column].astype(str)\n",
    "    return df\n",
    "\n",
    "####################################\n",
    "## C. Configuración de parametros\n",
    "####################################\n",
    "\n",
    "HEADLESS = False\n",
    "PRINT_VIEW = False\n",
    "# CHROME_DRIVER_PATH = False"
   ]
  },
  {
   "cell_type": "code",
   "execution_count": 4,
   "metadata": {},
   "outputs": [
    {
     "name": "stdout",
     "output_type": "stream",
     "text": [
      "Se inicia el servidor en Windows\n",
      "Usando el chromedriver_path: C:\\GitHubProjets\\ScrapTrello\\chromedriver\\windows\\chromedriver.exe\n"
     ]
    },
    {
     "ename": "SessionNotCreatedException",
     "evalue": "Message: session not created: This version of ChromeDriver only supports Chrome version 114\nCurrent browser version is 116.0.5845.112 with binary path C:\\Program Files\\Google\\Chrome\\Application\\chrome.exe\nStacktrace:\nBacktrace:\n\tGetHandleVerifier [0x00C1A813+48355]\n\t(No symbol) [0x00BAC4B1]\n\t(No symbol) [0x00AB5358]\n\t(No symbol) [0x00AD61AC]\n\t(No symbol) [0x00AD1EF3]\n\t(No symbol) [0x00AD0579]\n\t(No symbol) [0x00B00C55]\n\t(No symbol) [0x00B0093C]\n\t(No symbol) [0x00AFA536]\n\t(No symbol) [0x00AD82DC]\n\t(No symbol) [0x00AD93DD]\n\tGetHandleVerifier [0x00E7AABD+2539405]\n\tGetHandleVerifier [0x00EBA78F+2800735]\n\tGetHandleVerifier [0x00EB456C+2775612]\n\tGetHandleVerifier [0x00CA51E0+616112]\n\t(No symbol) [0x00BB5F8C]\n\t(No symbol) [0x00BB2328]\n\t(No symbol) [0x00BB240B]\n\t(No symbol) [0x00BA4FF7]\n\tBaseThreadInitThunk [0x75CA7D59+25]\n\tRtlInitializeExceptionChain [0x77A7B79B+107]\n\tRtlClearBits [0x77A7B71F+191]\n",
     "output_type": "error",
     "traceback": [
      "\u001b[1;31m---------------------------------------------------------------------------\u001b[0m",
      "\u001b[1;31mSessionNotCreatedException\u001b[0m                Traceback (most recent call last)",
      "Cell \u001b[1;32mIn[4], line 6\u001b[0m\n\u001b[0;32m      1\u001b[0m \u001b[39m########################\u001b[39;00m\n\u001b[0;32m      2\u001b[0m \u001b[39m## D. Ejecución\u001b[39;00m\n\u001b[0;32m      3\u001b[0m \u001b[39m########################\u001b[39;00m\n\u001b[0;32m      4\u001b[0m \n\u001b[0;32m      5\u001b[0m \u001b[39m# 1. Iniciar el driver, el servidor proxy y el proxy\u001b[39;00m\n\u001b[1;32m----> 6\u001b[0m driver, server, proxy \u001b[39m=\u001b[39m get_chrome_driver(chromedriver_path\u001b[39m=\u001b[39;49mCHROMEDRIVER_PATH, print_view\u001b[39m=\u001b[39;49mPRINT_VIEW, headless\u001b[39m=\u001b[39;49mHEADLESS)\n\u001b[0;32m      7\u001b[0m \u001b[39mprint\u001b[39m(\u001b[39m'\u001b[39m\u001b[39m1. Se inició el driver, el servidor proxy y el proxy\u001b[39m\u001b[39m'\u001b[39m)\n",
      "File \u001b[1;32mc:\\GitHubProjets\\ScrapTrello\\utils\\utils.py:159\u001b[0m, in \u001b[0;36mget_chrome_driver\u001b[1;34m(chromedriver_path, print_view, headless)\u001b[0m\n\u001b[0;32m    157\u001b[0m     \u001b[39mprint\u001b[39m(\u001b[39m\"\u001b[39m\u001b[39mUsando el chromedriver_path: \u001b[39m\u001b[39m{}\u001b[39;00m\u001b[39m\"\u001b[39m\u001b[39m.\u001b[39mformat(chromedriver_path))\n\u001b[0;32m    158\u001b[0m     service \u001b[39m=\u001b[39m Service(executable_path\u001b[39m=\u001b[39mchromedriver_path)\n\u001b[1;32m--> 159\u001b[0m     driver \u001b[39m=\u001b[39m webdriver\u001b[39m.\u001b[39;49mChrome(service\u001b[39m=\u001b[39;49mservice, options\u001b[39m=\u001b[39;49moptions)\n\u001b[0;32m    160\u001b[0m \u001b[39melse\u001b[39;00m:\n\u001b[0;32m    161\u001b[0m     \u001b[39mprint\u001b[39m(\u001b[39m\"\u001b[39m\u001b[39mUsando el chromedriver_path por defecto\u001b[39m\u001b[39m\"\u001b[39m)\n",
      "File \u001b[1;32mc:\\Venv\\03_Olimpo\\lib\\site-packages\\selenium\\webdriver\\chrome\\webdriver.py:49\u001b[0m, in \u001b[0;36mWebDriver.__init__\u001b[1;34m(self, options, service, keep_alive)\u001b[0m\n\u001b[0;32m     45\u001b[0m \u001b[39mself\u001b[39m\u001b[39m.\u001b[39mkeep_alive \u001b[39m=\u001b[39m keep_alive\n\u001b[0;32m     47\u001b[0m \u001b[39mself\u001b[39m\u001b[39m.\u001b[39mservice\u001b[39m.\u001b[39mpath \u001b[39m=\u001b[39m DriverFinder\u001b[39m.\u001b[39mget_path(\u001b[39mself\u001b[39m\u001b[39m.\u001b[39mservice, \u001b[39mself\u001b[39m\u001b[39m.\u001b[39moptions)\n\u001b[1;32m---> 49\u001b[0m \u001b[39msuper\u001b[39;49m()\u001b[39m.\u001b[39;49m\u001b[39m__init__\u001b[39;49m(\n\u001b[0;32m     50\u001b[0m     DesiredCapabilities\u001b[39m.\u001b[39;49mCHROME[\u001b[39m\"\u001b[39;49m\u001b[39mbrowserName\u001b[39;49m\u001b[39m\"\u001b[39;49m],\n\u001b[0;32m     51\u001b[0m     \u001b[39m\"\u001b[39;49m\u001b[39mgoog\u001b[39;49m\u001b[39m\"\u001b[39;49m,\n\u001b[0;32m     52\u001b[0m     \u001b[39mself\u001b[39;49m\u001b[39m.\u001b[39;49moptions,\n\u001b[0;32m     53\u001b[0m     \u001b[39mself\u001b[39;49m\u001b[39m.\u001b[39;49mservice,\n\u001b[0;32m     54\u001b[0m     \u001b[39mself\u001b[39;49m\u001b[39m.\u001b[39;49mkeep_alive,\n\u001b[0;32m     55\u001b[0m )\n",
      "File \u001b[1;32mc:\\Venv\\03_Olimpo\\lib\\site-packages\\selenium\\webdriver\\chromium\\webdriver.py:54\u001b[0m, in \u001b[0;36mChromiumDriver.__init__\u001b[1;34m(self, browser_name, vendor_prefix, options, service, keep_alive)\u001b[0m\n\u001b[0;32m     51\u001b[0m \u001b[39mself\u001b[39m\u001b[39m.\u001b[39mservice\u001b[39m.\u001b[39mstart()\n\u001b[0;32m     53\u001b[0m \u001b[39mtry\u001b[39;00m:\n\u001b[1;32m---> 54\u001b[0m     \u001b[39msuper\u001b[39;49m()\u001b[39m.\u001b[39;49m\u001b[39m__init__\u001b[39;49m(\n\u001b[0;32m     55\u001b[0m         command_executor\u001b[39m=\u001b[39;49mChromiumRemoteConnection(\n\u001b[0;32m     56\u001b[0m             remote_server_addr\u001b[39m=\u001b[39;49m\u001b[39mself\u001b[39;49m\u001b[39m.\u001b[39;49mservice\u001b[39m.\u001b[39;49mservice_url,\n\u001b[0;32m     57\u001b[0m             browser_name\u001b[39m=\u001b[39;49mbrowser_name,\n\u001b[0;32m     58\u001b[0m             vendor_prefix\u001b[39m=\u001b[39;49mvendor_prefix,\n\u001b[0;32m     59\u001b[0m             keep_alive\u001b[39m=\u001b[39;49mkeep_alive,\n\u001b[0;32m     60\u001b[0m             ignore_proxy\u001b[39m=\u001b[39;49m\u001b[39mself\u001b[39;49m\u001b[39m.\u001b[39;49moptions\u001b[39m.\u001b[39;49m_ignore_local_proxy,\n\u001b[0;32m     61\u001b[0m         ),\n\u001b[0;32m     62\u001b[0m         options\u001b[39m=\u001b[39;49m\u001b[39mself\u001b[39;49m\u001b[39m.\u001b[39;49moptions,\n\u001b[0;32m     63\u001b[0m     )\n\u001b[0;32m     64\u001b[0m \u001b[39mexcept\u001b[39;00m \u001b[39mException\u001b[39;00m:\n\u001b[0;32m     65\u001b[0m     \u001b[39mself\u001b[39m\u001b[39m.\u001b[39mquit()\n",
      "File \u001b[1;32mc:\\Venv\\03_Olimpo\\lib\\site-packages\\selenium\\webdriver\\remote\\webdriver.py:206\u001b[0m, in \u001b[0;36mWebDriver.__init__\u001b[1;34m(self, command_executor, keep_alive, file_detector, options)\u001b[0m\n\u001b[0;32m    204\u001b[0m \u001b[39mself\u001b[39m\u001b[39m.\u001b[39m_authenticator_id \u001b[39m=\u001b[39m \u001b[39mNone\u001b[39;00m\n\u001b[0;32m    205\u001b[0m \u001b[39mself\u001b[39m\u001b[39m.\u001b[39mstart_client()\n\u001b[1;32m--> 206\u001b[0m \u001b[39mself\u001b[39;49m\u001b[39m.\u001b[39;49mstart_session(capabilities)\n",
      "File \u001b[1;32mc:\\Venv\\03_Olimpo\\lib\\site-packages\\selenium\\webdriver\\remote\\webdriver.py:291\u001b[0m, in \u001b[0;36mWebDriver.start_session\u001b[1;34m(self, capabilities)\u001b[0m\n\u001b[0;32m    283\u001b[0m \u001b[39m\u001b[39m\u001b[39m\"\"\"Creates a new session with the desired capabilities.\u001b[39;00m\n\u001b[0;32m    284\u001b[0m \n\u001b[0;32m    285\u001b[0m \u001b[39m:Args:\u001b[39;00m\n\u001b[0;32m    286\u001b[0m \u001b[39m - capabilities - a capabilities dict to start the session with.\u001b[39;00m\n\u001b[0;32m    287\u001b[0m \u001b[39m - browser_profile - A selenium.webdriver.firefox.firefox_profile.FirefoxProfile object. Only used if Firefox is requested.\u001b[39;00m\n\u001b[0;32m    288\u001b[0m \u001b[39m\"\"\"\u001b[39;00m\n\u001b[0;32m    290\u001b[0m caps \u001b[39m=\u001b[39m _create_caps(capabilities)\n\u001b[1;32m--> 291\u001b[0m response \u001b[39m=\u001b[39m \u001b[39mself\u001b[39;49m\u001b[39m.\u001b[39;49mexecute(Command\u001b[39m.\u001b[39;49mNEW_SESSION, caps)[\u001b[39m\"\u001b[39m\u001b[39mvalue\u001b[39m\u001b[39m\"\u001b[39m]\n\u001b[0;32m    292\u001b[0m \u001b[39mself\u001b[39m\u001b[39m.\u001b[39msession_id \u001b[39m=\u001b[39m response\u001b[39m.\u001b[39mget(\u001b[39m\"\u001b[39m\u001b[39msessionId\u001b[39m\u001b[39m\"\u001b[39m)\n\u001b[0;32m    293\u001b[0m \u001b[39mself\u001b[39m\u001b[39m.\u001b[39mcaps \u001b[39m=\u001b[39m response\u001b[39m.\u001b[39mget(\u001b[39m\"\u001b[39m\u001b[39mcapabilities\u001b[39m\u001b[39m\"\u001b[39m)\n",
      "File \u001b[1;32mc:\\Venv\\03_Olimpo\\lib\\site-packages\\selenium\\webdriver\\remote\\webdriver.py:346\u001b[0m, in \u001b[0;36mWebDriver.execute\u001b[1;34m(self, driver_command, params)\u001b[0m\n\u001b[0;32m    344\u001b[0m response \u001b[39m=\u001b[39m \u001b[39mself\u001b[39m\u001b[39m.\u001b[39mcommand_executor\u001b[39m.\u001b[39mexecute(driver_command, params)\n\u001b[0;32m    345\u001b[0m \u001b[39mif\u001b[39;00m response:\n\u001b[1;32m--> 346\u001b[0m     \u001b[39mself\u001b[39;49m\u001b[39m.\u001b[39;49merror_handler\u001b[39m.\u001b[39;49mcheck_response(response)\n\u001b[0;32m    347\u001b[0m     response[\u001b[39m\"\u001b[39m\u001b[39mvalue\u001b[39m\u001b[39m\"\u001b[39m] \u001b[39m=\u001b[39m \u001b[39mself\u001b[39m\u001b[39m.\u001b[39m_unwrap_value(response\u001b[39m.\u001b[39mget(\u001b[39m\"\u001b[39m\u001b[39mvalue\u001b[39m\u001b[39m\"\u001b[39m, \u001b[39mNone\u001b[39;00m))\n\u001b[0;32m    348\u001b[0m     \u001b[39mreturn\u001b[39;00m response\n",
      "File \u001b[1;32mc:\\Venv\\03_Olimpo\\lib\\site-packages\\selenium\\webdriver\\remote\\errorhandler.py:245\u001b[0m, in \u001b[0;36mErrorHandler.check_response\u001b[1;34m(self, response)\u001b[0m\n\u001b[0;32m    243\u001b[0m         alert_text \u001b[39m=\u001b[39m value[\u001b[39m\"\u001b[39m\u001b[39malert\u001b[39m\u001b[39m\"\u001b[39m]\u001b[39m.\u001b[39mget(\u001b[39m\"\u001b[39m\u001b[39mtext\u001b[39m\u001b[39m\"\u001b[39m)\n\u001b[0;32m    244\u001b[0m     \u001b[39mraise\u001b[39;00m exception_class(message, screen, stacktrace, alert_text)  \u001b[39m# type: ignore[call-arg]  # mypy is not smart enough here\u001b[39;00m\n\u001b[1;32m--> 245\u001b[0m \u001b[39mraise\u001b[39;00m exception_class(message, screen, stacktrace)\n",
      "\u001b[1;31mSessionNotCreatedException\u001b[0m: Message: session not created: This version of ChromeDriver only supports Chrome version 114\nCurrent browser version is 116.0.5845.112 with binary path C:\\Program Files\\Google\\Chrome\\Application\\chrome.exe\nStacktrace:\nBacktrace:\n\tGetHandleVerifier [0x00C1A813+48355]\n\t(No symbol) [0x00BAC4B1]\n\t(No symbol) [0x00AB5358]\n\t(No symbol) [0x00AD61AC]\n\t(No symbol) [0x00AD1EF3]\n\t(No symbol) [0x00AD0579]\n\t(No symbol) [0x00B00C55]\n\t(No symbol) [0x00B0093C]\n\t(No symbol) [0x00AFA536]\n\t(No symbol) [0x00AD82DC]\n\t(No symbol) [0x00AD93DD]\n\tGetHandleVerifier [0x00E7AABD+2539405]\n\tGetHandleVerifier [0x00EBA78F+2800735]\n\tGetHandleVerifier [0x00EB456C+2775612]\n\tGetHandleVerifier [0x00CA51E0+616112]\n\t(No symbol) [0x00BB5F8C]\n\t(No symbol) [0x00BB2328]\n\t(No symbol) [0x00BB240B]\n\t(No symbol) [0x00BA4FF7]\n\tBaseThreadInitThunk [0x75CA7D59+25]\n\tRtlInitializeExceptionChain [0x77A7B79B+107]\n\tRtlClearBits [0x77A7B71F+191]\n"
     ]
    }
   ],
   "source": [
    "########################\n",
    "## D. Ejecución\n",
    "########################\n",
    "\n",
    "# 1. Iniciar el driver, el servidor proxy y el proxy\n",
    "driver, server, proxy = get_chrome_driver(chromedriver_path=CHROMEDRIVER_PATH, print_view=PRINT_VIEW, headless=HEADLESS)\n",
    "print('1. Se inició el driver, el servidor proxy y el proxy')"
   ]
  },
  {
   "cell_type": "code",
   "execution_count": 4,
   "metadata": {},
   "outputs": [
    {
     "name": "stdout",
     "output_type": "stream",
     "text": [
      "Se inicia el servidor en Windows\n",
      "Usando el chromedriver_path: C:\\GitHubProjets\\ScrapTrello\\chromedriver\\windows\\chromedriver.exe\n"
     ]
    },
    {
     "ename": "SessionNotCreatedException",
     "evalue": "Message: session not created: This version of ChromeDriver only supports Chrome version 114\nCurrent browser version is 116.0.5845.111 with binary path C:\\Program Files\\Google\\Chrome\\Application\\chrome.exe\nStacktrace:\nBacktrace:\n\tGetHandleVerifier [0x00D4A813+48355]\n\t(No symbol) [0x00CDC4B1]\n\t(No symbol) [0x00BE5358]\n\t(No symbol) [0x00C061AC]\n\t(No symbol) [0x00C01EF3]\n\t(No symbol) [0x00C00579]\n\t(No symbol) [0x00C30C55]\n\t(No symbol) [0x00C3093C]\n\t(No symbol) [0x00C2A536]\n\t(No symbol) [0x00C082DC]\n\t(No symbol) [0x00C093DD]\n\tGetHandleVerifier [0x00FAAABD+2539405]\n\tGetHandleVerifier [0x00FEA78F+2800735]\n\tGetHandleVerifier [0x00FE456C+2775612]\n\tGetHandleVerifier [0x00DD51E0+616112]\n\t(No symbol) [0x00CE5F8C]\n\t(No symbol) [0x00CE2328]\n\t(No symbol) [0x00CE240B]\n\t(No symbol) [0x00CD4FF7]\n\tBaseThreadInitThunk [0x75DF7D59+25]\n\tRtlInitializeExceptionChain [0x7728B79B+107]\n\tRtlClearBits [0x7728B71F+191]\n",
     "output_type": "error",
     "traceback": [
      "\u001b[1;31m---------------------------------------------------------------------------\u001b[0m",
      "\u001b[1;31mSessionNotCreatedException\u001b[0m                Traceback (most recent call last)",
      "Cell \u001b[1;32mIn[4], line 6\u001b[0m\n\u001b[0;32m      1\u001b[0m \u001b[39m########################\u001b[39;00m\n\u001b[0;32m      2\u001b[0m \u001b[39m## D. Ejecución\u001b[39;00m\n\u001b[0;32m      3\u001b[0m \u001b[39m########################\u001b[39;00m\n\u001b[0;32m      4\u001b[0m \n\u001b[0;32m      5\u001b[0m \u001b[39m# 1. Iniciar el driver, el servidor proxy y el proxy\u001b[39;00m\n\u001b[1;32m----> 6\u001b[0m driver, server, proxy \u001b[39m=\u001b[39m get_chrome_driver(chromedriver_path\u001b[39m=\u001b[39;49mCHROMEDRIVER_PATH, print_view\u001b[39m=\u001b[39;49mPRINT_VIEW, headless\u001b[39m=\u001b[39;49mHEADLESS)\n\u001b[0;32m      7\u001b[0m \u001b[39mprint\u001b[39m(\u001b[39m'\u001b[39m\u001b[39m1. Se inició el driver, el servidor proxy y el proxy\u001b[39m\u001b[39m'\u001b[39m)\n\u001b[0;32m      9\u001b[0m \u001b[39m# 2. Eliminar todos los archivos de la carpeta\u001b[39;00m\n",
      "File \u001b[1;32mc:\\GitHubProjets\\ScrapTrello\\utils\\utils.py:159\u001b[0m, in \u001b[0;36mget_chrome_driver\u001b[1;34m(chromedriver_path, print_view, headless)\u001b[0m\n\u001b[0;32m    157\u001b[0m     \u001b[39mprint\u001b[39m(\u001b[39m\"\u001b[39m\u001b[39mUsando el chromedriver_path: \u001b[39m\u001b[39m{}\u001b[39;00m\u001b[39m\"\u001b[39m\u001b[39m.\u001b[39mformat(chromedriver_path))\n\u001b[0;32m    158\u001b[0m     service \u001b[39m=\u001b[39m Service(executable_path\u001b[39m=\u001b[39mchromedriver_path)\n\u001b[1;32m--> 159\u001b[0m     driver \u001b[39m=\u001b[39m webdriver\u001b[39m.\u001b[39;49mChrome(service\u001b[39m=\u001b[39;49mservice, options\u001b[39m=\u001b[39;49moptions)\n\u001b[0;32m    160\u001b[0m \u001b[39melse\u001b[39;00m:\n\u001b[0;32m    161\u001b[0m     \u001b[39mprint\u001b[39m(\u001b[39m\"\u001b[39m\u001b[39mUsando el chromedriver_path por defecto\u001b[39m\u001b[39m\"\u001b[39m)\n",
      "File \u001b[1;32mc:\\Venv\\03_Olimpo\\lib\\site-packages\\selenium\\webdriver\\chrome\\webdriver.py:49\u001b[0m, in \u001b[0;36mWebDriver.__init__\u001b[1;34m(self, options, service, keep_alive)\u001b[0m\n\u001b[0;32m     45\u001b[0m \u001b[39mself\u001b[39m\u001b[39m.\u001b[39mkeep_alive \u001b[39m=\u001b[39m keep_alive\n\u001b[0;32m     47\u001b[0m \u001b[39mself\u001b[39m\u001b[39m.\u001b[39mservice\u001b[39m.\u001b[39mpath \u001b[39m=\u001b[39m DriverFinder\u001b[39m.\u001b[39mget_path(\u001b[39mself\u001b[39m\u001b[39m.\u001b[39mservice, \u001b[39mself\u001b[39m\u001b[39m.\u001b[39moptions)\n\u001b[1;32m---> 49\u001b[0m \u001b[39msuper\u001b[39;49m()\u001b[39m.\u001b[39;49m\u001b[39m__init__\u001b[39;49m(\n\u001b[0;32m     50\u001b[0m     DesiredCapabilities\u001b[39m.\u001b[39;49mCHROME[\u001b[39m\"\u001b[39;49m\u001b[39mbrowserName\u001b[39;49m\u001b[39m\"\u001b[39;49m],\n\u001b[0;32m     51\u001b[0m     \u001b[39m\"\u001b[39;49m\u001b[39mgoog\u001b[39;49m\u001b[39m\"\u001b[39;49m,\n\u001b[0;32m     52\u001b[0m     \u001b[39mself\u001b[39;49m\u001b[39m.\u001b[39;49moptions,\n\u001b[0;32m     53\u001b[0m     \u001b[39mself\u001b[39;49m\u001b[39m.\u001b[39;49mservice,\n\u001b[0;32m     54\u001b[0m     \u001b[39mself\u001b[39;49m\u001b[39m.\u001b[39;49mkeep_alive,\n\u001b[0;32m     55\u001b[0m )\n",
      "File \u001b[1;32mc:\\Venv\\03_Olimpo\\lib\\site-packages\\selenium\\webdriver\\chromium\\webdriver.py:54\u001b[0m, in \u001b[0;36mChromiumDriver.__init__\u001b[1;34m(self, browser_name, vendor_prefix, options, service, keep_alive)\u001b[0m\n\u001b[0;32m     51\u001b[0m \u001b[39mself\u001b[39m\u001b[39m.\u001b[39mservice\u001b[39m.\u001b[39mstart()\n\u001b[0;32m     53\u001b[0m \u001b[39mtry\u001b[39;00m:\n\u001b[1;32m---> 54\u001b[0m     \u001b[39msuper\u001b[39;49m()\u001b[39m.\u001b[39;49m\u001b[39m__init__\u001b[39;49m(\n\u001b[0;32m     55\u001b[0m         command_executor\u001b[39m=\u001b[39;49mChromiumRemoteConnection(\n\u001b[0;32m     56\u001b[0m             remote_server_addr\u001b[39m=\u001b[39;49m\u001b[39mself\u001b[39;49m\u001b[39m.\u001b[39;49mservice\u001b[39m.\u001b[39;49mservice_url,\n\u001b[0;32m     57\u001b[0m             browser_name\u001b[39m=\u001b[39;49mbrowser_name,\n\u001b[0;32m     58\u001b[0m             vendor_prefix\u001b[39m=\u001b[39;49mvendor_prefix,\n\u001b[0;32m     59\u001b[0m             keep_alive\u001b[39m=\u001b[39;49mkeep_alive,\n\u001b[0;32m     60\u001b[0m             ignore_proxy\u001b[39m=\u001b[39;49m\u001b[39mself\u001b[39;49m\u001b[39m.\u001b[39;49moptions\u001b[39m.\u001b[39;49m_ignore_local_proxy,\n\u001b[0;32m     61\u001b[0m         ),\n\u001b[0;32m     62\u001b[0m         options\u001b[39m=\u001b[39;49m\u001b[39mself\u001b[39;49m\u001b[39m.\u001b[39;49moptions,\n\u001b[0;32m     63\u001b[0m     )\n\u001b[0;32m     64\u001b[0m \u001b[39mexcept\u001b[39;00m \u001b[39mException\u001b[39;00m:\n\u001b[0;32m     65\u001b[0m     \u001b[39mself\u001b[39m\u001b[39m.\u001b[39mquit()\n",
      "File \u001b[1;32mc:\\Venv\\03_Olimpo\\lib\\site-packages\\selenium\\webdriver\\remote\\webdriver.py:206\u001b[0m, in \u001b[0;36mWebDriver.__init__\u001b[1;34m(self, command_executor, keep_alive, file_detector, options)\u001b[0m\n\u001b[0;32m    204\u001b[0m \u001b[39mself\u001b[39m\u001b[39m.\u001b[39m_authenticator_id \u001b[39m=\u001b[39m \u001b[39mNone\u001b[39;00m\n\u001b[0;32m    205\u001b[0m \u001b[39mself\u001b[39m\u001b[39m.\u001b[39mstart_client()\n\u001b[1;32m--> 206\u001b[0m \u001b[39mself\u001b[39;49m\u001b[39m.\u001b[39;49mstart_session(capabilities)\n",
      "File \u001b[1;32mc:\\Venv\\03_Olimpo\\lib\\site-packages\\selenium\\webdriver\\remote\\webdriver.py:291\u001b[0m, in \u001b[0;36mWebDriver.start_session\u001b[1;34m(self, capabilities)\u001b[0m\n\u001b[0;32m    283\u001b[0m \u001b[39m\u001b[39m\u001b[39m\"\"\"Creates a new session with the desired capabilities.\u001b[39;00m\n\u001b[0;32m    284\u001b[0m \n\u001b[0;32m    285\u001b[0m \u001b[39m:Args:\u001b[39;00m\n\u001b[0;32m    286\u001b[0m \u001b[39m - capabilities - a capabilities dict to start the session with.\u001b[39;00m\n\u001b[0;32m    287\u001b[0m \u001b[39m - browser_profile - A selenium.webdriver.firefox.firefox_profile.FirefoxProfile object. Only used if Firefox is requested.\u001b[39;00m\n\u001b[0;32m    288\u001b[0m \u001b[39m\"\"\"\u001b[39;00m\n\u001b[0;32m    290\u001b[0m caps \u001b[39m=\u001b[39m _create_caps(capabilities)\n\u001b[1;32m--> 291\u001b[0m response \u001b[39m=\u001b[39m \u001b[39mself\u001b[39;49m\u001b[39m.\u001b[39;49mexecute(Command\u001b[39m.\u001b[39;49mNEW_SESSION, caps)[\u001b[39m\"\u001b[39m\u001b[39mvalue\u001b[39m\u001b[39m\"\u001b[39m]\n\u001b[0;32m    292\u001b[0m \u001b[39mself\u001b[39m\u001b[39m.\u001b[39msession_id \u001b[39m=\u001b[39m response\u001b[39m.\u001b[39mget(\u001b[39m\"\u001b[39m\u001b[39msessionId\u001b[39m\u001b[39m\"\u001b[39m)\n\u001b[0;32m    293\u001b[0m \u001b[39mself\u001b[39m\u001b[39m.\u001b[39mcaps \u001b[39m=\u001b[39m response\u001b[39m.\u001b[39mget(\u001b[39m\"\u001b[39m\u001b[39mcapabilities\u001b[39m\u001b[39m\"\u001b[39m)\n",
      "File \u001b[1;32mc:\\Venv\\03_Olimpo\\lib\\site-packages\\selenium\\webdriver\\remote\\webdriver.py:346\u001b[0m, in \u001b[0;36mWebDriver.execute\u001b[1;34m(self, driver_command, params)\u001b[0m\n\u001b[0;32m    344\u001b[0m response \u001b[39m=\u001b[39m \u001b[39mself\u001b[39m\u001b[39m.\u001b[39mcommand_executor\u001b[39m.\u001b[39mexecute(driver_command, params)\n\u001b[0;32m    345\u001b[0m \u001b[39mif\u001b[39;00m response:\n\u001b[1;32m--> 346\u001b[0m     \u001b[39mself\u001b[39;49m\u001b[39m.\u001b[39;49merror_handler\u001b[39m.\u001b[39;49mcheck_response(response)\n\u001b[0;32m    347\u001b[0m     response[\u001b[39m\"\u001b[39m\u001b[39mvalue\u001b[39m\u001b[39m\"\u001b[39m] \u001b[39m=\u001b[39m \u001b[39mself\u001b[39m\u001b[39m.\u001b[39m_unwrap_value(response\u001b[39m.\u001b[39mget(\u001b[39m\"\u001b[39m\u001b[39mvalue\u001b[39m\u001b[39m\"\u001b[39m, \u001b[39mNone\u001b[39;00m))\n\u001b[0;32m    348\u001b[0m     \u001b[39mreturn\u001b[39;00m response\n",
      "File \u001b[1;32mc:\\Venv\\03_Olimpo\\lib\\site-packages\\selenium\\webdriver\\remote\\errorhandler.py:245\u001b[0m, in \u001b[0;36mErrorHandler.check_response\u001b[1;34m(self, response)\u001b[0m\n\u001b[0;32m    243\u001b[0m         alert_text \u001b[39m=\u001b[39m value[\u001b[39m\"\u001b[39m\u001b[39malert\u001b[39m\u001b[39m\"\u001b[39m]\u001b[39m.\u001b[39mget(\u001b[39m\"\u001b[39m\u001b[39mtext\u001b[39m\u001b[39m\"\u001b[39m)\n\u001b[0;32m    244\u001b[0m     \u001b[39mraise\u001b[39;00m exception_class(message, screen, stacktrace, alert_text)  \u001b[39m# type: ignore[call-arg]  # mypy is not smart enough here\u001b[39;00m\n\u001b[1;32m--> 245\u001b[0m \u001b[39mraise\u001b[39;00m exception_class(message, screen, stacktrace)\n",
      "\u001b[1;31mSessionNotCreatedException\u001b[0m: Message: session not created: This version of ChromeDriver only supports Chrome version 114\nCurrent browser version is 116.0.5845.111 with binary path C:\\Program Files\\Google\\Chrome\\Application\\chrome.exe\nStacktrace:\nBacktrace:\n\tGetHandleVerifier [0x00D4A813+48355]\n\t(No symbol) [0x00CDC4B1]\n\t(No symbol) [0x00BE5358]\n\t(No symbol) [0x00C061AC]\n\t(No symbol) [0x00C01EF3]\n\t(No symbol) [0x00C00579]\n\t(No symbol) [0x00C30C55]\n\t(No symbol) [0x00C3093C]\n\t(No symbol) [0x00C2A536]\n\t(No symbol) [0x00C082DC]\n\t(No symbol) [0x00C093DD]\n\tGetHandleVerifier [0x00FAAABD+2539405]\n\tGetHandleVerifier [0x00FEA78F+2800735]\n\tGetHandleVerifier [0x00FE456C+2775612]\n\tGetHandleVerifier [0x00DD51E0+616112]\n\t(No symbol) [0x00CE5F8C]\n\t(No symbol) [0x00CE2328]\n\t(No symbol) [0x00CE240B]\n\t(No symbol) [0x00CD4FF7]\n\tBaseThreadInitThunk [0x75DF7D59+25]\n\tRtlInitializeExceptionChain [0x7728B79B+107]\n\tRtlClearBits [0x7728B71F+191]\n"
     ]
    }
   ],
   "source": [
    "# 2. Eliminar todos los archivos de la carpeta\n",
    "try:\n",
    "    os.mkdir('jsons')\n",
    "    print('Se creó la carpeta ./jsons')\n",
    "except:\n",
    "    print('Ya existe  ./jsons')\n",
    "\n",
    "try:\n",
    "    os.mkdir('jsons/trello')\n",
    "    print('Se creó la carpeta ./jsons/trello')\n",
    "except:\n",
    "    print('Ya existe ./jsons/trello')\n",
    "\n",
    "try:\n",
    "    os.mkdir(f'jsons/trello')\n",
    "    print(f'Se creó la carpeta ./jsons/trello')\n",
    "except:\n",
    "    print(f'Ya existe ./jsons/trello')\n",
    "\n",
    "try:\n",
    "    files = get_files(os.path.join(os.getcwd(),'jsons','trello'), '.')\n",
    "    for file in files:\n",
    "        os.remove(file)\n",
    "    print('Se eliminaron los archivos de la carpeta')\n",
    "except:\n",
    "    pass\n",
    "\n",
    "# 3. Iniciar .har\n",
    "options = {\n",
    "    'captureHeaders': True, # Capturar los headers --> Default: False\n",
    "    'captureContent': True, # Capturar el contenido --> Default: False\n",
    "    'captureBinaryContent': False, # Capturar el contenido binario --> Default: False\n",
    "    'captureCookies': True, # Capturar las cookies --> Default: False\n",
    "    'captureHeadersSize': -1, \n",
    "    'captureMaxSize': -1, \n",
    "    'captureBinaryContentMaxLength': -1 # Tamaño máximo del contenido binario\n",
    "}\n",
    "proxy.new_har(\"trello\", options=options)"
   ]
  },
  {
   "cell_type": "code",
   "execution_count": null,
   "metadata": {},
   "outputs": [],
   "source": []
  }
 ],
 "metadata": {
  "kernelspec": {
   "display_name": "03_Olimpo",
   "language": "python",
   "name": "python3"
  },
  "language_info": {
   "codemirror_mode": {
    "name": "ipython",
    "version": 3
   },
   "file_extension": ".py",
   "mimetype": "text/x-python",
   "name": "python",
   "nbconvert_exporter": "python",
   "pygments_lexer": "ipython3",
   "version": "3.8.7"
  },
  "orig_nbformat": 4
 },
 "nbformat": 4,
 "nbformat_minor": 2
}
